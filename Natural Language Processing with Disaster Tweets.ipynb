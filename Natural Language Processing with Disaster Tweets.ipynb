{
 "cells": [
  {
   "cell_type": "code",
   "execution_count": 1,
   "metadata": {
    "_cell_guid": "b1076dfc-b9ad-4769-8c92-a6c4dae69d19",
    "_uuid": "8f2839f25d086af736a60e9eeb907d3b93b6e0e5",
    "execution": {
     "iopub.execute_input": "2022-12-10T06:18:07.131989Z",
     "iopub.status.busy": "2022-12-10T06:18:07.131574Z",
     "iopub.status.idle": "2022-12-10T06:18:07.145034Z",
     "shell.execute_reply": "2022-12-10T06:18:07.143595Z",
     "shell.execute_reply.started": "2022-12-10T06:18:07.131960Z"
    }
   },
   "outputs": [
    {
     "name": "stdout",
     "output_type": "stream",
     "text": [
      "./input\\sample_submission.csv\n",
      "./input\\test.csv\n",
      "./input\\train.csv\n"
     ]
    }
   ],
   "source": [
    "# This Python 3 environment comes with many helpful analytics libraries installed\n",
    "# It is defined by the kaggle/python Docker image: https://github.com/kaggle/docker-python\n",
    "# For example, here's several helpful packages to load\n",
    "import os\n",
    "import re\n",
    "import json\n",
    "import time\n",
    "import torch\n",
    "import random\n",
    "import transformers\n",
    "import pandas as pd\n",
    "import numpy as np\n",
    "from tqdm import tqdm\n",
    "from torch import nn,optim\n",
    "import nltk\n",
    "# Uncomment to download \"stopwords\"\n",
    "from nltk.corpus import stopwords\n",
    "\n",
    "from sklearn.utils import shuffle\n",
    "from transformers import BertTokenizer\n",
    "\n",
    "from torch.utils.tensorboard import SummaryWriter  \n",
    "from sklearn.model_selection import train_test_split\n",
    "from transformers import AdamW, get_linear_schedule_with_warmup\n",
    "from torch.utils.data import TensorDataset, DataLoader, RandomSampler, SequentialSampler\n",
    "from sklearn.metrics import f1_score, accuracy_score, roc_curve, auc, precision_score,recall_score\n",
    "# Input data files are available in the read-only \"../input/\" directory\n",
    "# For example, running this (by clicking run or pressing Shift+Enter) will list all files under the input directory\n",
    "\n",
    "import os\n",
    "for dirname, _, filenames in os.walk('./input'):\n",
    "    for filename in filenames:\n",
    "        print(os.path.join(dirname, filename))\n",
    "\n",
    "# You can write up to 20GB to the current directory (/kaggle/working/) that gets preserved as output when you create a version using \"Save & Run All\" \n",
    "# You can also write temporary files to /kaggle/temp/, but they won't be saved outside of the current session"
   ]
  },
  {
   "cell_type": "code",
   "execution_count": 2,
   "metadata": {
    "execution": {
     "iopub.execute_input": "2022-12-10T06:18:07.147203Z",
     "iopub.status.busy": "2022-12-10T06:18:07.146961Z",
     "iopub.status.idle": "2022-12-10T06:18:07.287780Z",
     "shell.execute_reply": "2022-12-10T06:18:07.286218Z",
     "shell.execute_reply.started": "2022-12-10T06:18:07.147178Z"
    }
   },
   "outputs": [],
   "source": [
    "def text_preprocessing(s):\n",
    "    \"\"\"\n",
    "    - Lowercase the sentence\n",
    "    - Change \"'t\" to \"not\"\n",
    "    - Remove \"@name\"\n",
    "    - Isolate and remove punctuations except \"?\"\n",
    "    - Remove other special characters\n",
    "    - Remove stop words except \"not\" and \"can\"\n",
    "    - Remove trailing whitespace\n",
    "    \"\"\"\n",
    "    s = s.lower()\n",
    "    # Change 't to 'not'\n",
    "    s = re.sub(r\"\\'t\", \" not\", s)\n",
    "    s = re.sub(r\"\\'m\", \" am\", s)\n",
    "    # Remove @name\n",
    "    s = re.sub(r'(@.*?)[\\s]', ' ', s)\n",
    "    # Isolate and remove punctuations except '?' and ','\n",
    "    s = re.sub(r'([\\'\\\"\\.\\(\\)\\!\\?\\\\\\/])', r' \\1 ', s)\n",
    "    s = re.sub(r'[^\\w\\s\\?\\,]', ' ', s)\n",
    "    # Remove some special characters\n",
    "    s = re.sub(r'([\\;\\:\\|•«\\n])', ' ', s)\n",
    "    # Remove stopwords except 'not' and 'can'\n",
    "#     s = \" \".join([word for word in s.split()\n",
    "#                   if word not in stopwords.words('english')\n",
    "#                   or word in ['not', 'can']])\n",
    "    # Remove trailing whitespace\n",
    "    s = re.sub(r'\\s+', ' ', s).strip()\n",
    "    \n",
    "    return s"
   ]
  },
  {
   "cell_type": "code",
   "execution_count": 3,
   "metadata": {
    "execution": {
     "iopub.execute_input": "2022-12-10T06:18:07.289841Z",
     "iopub.status.busy": "2022-12-10T06:18:07.288992Z",
     "iopub.status.idle": "2022-12-10T06:18:07.307207Z",
     "shell.execute_reply": "2022-12-10T06:18:07.305329Z",
     "shell.execute_reply.started": "2022-12-10T06:18:07.289811Z"
    }
   },
   "outputs": [],
   "source": [
    "#stopwords.words('english')"
   ]
  },
  {
   "cell_type": "code",
   "execution_count": 4,
   "metadata": {
    "execution": {
     "iopub.execute_input": "2022-12-10T06:18:07.310194Z",
     "iopub.status.busy": "2022-12-10T06:18:07.309901Z",
     "iopub.status.idle": "2022-12-10T06:18:07.326660Z",
     "shell.execute_reply": "2022-12-10T06:18:07.325425Z",
     "shell.execute_reply.started": "2022-12-10T06:18:07.310168Z"
    }
   },
   "outputs": [
    {
     "data": {
      "text/plain": [
       "'not happy whit'"
      ]
     },
     "execution_count": 4,
     "metadata": {},
     "output_type": "execute_result"
    }
   ],
   "source": [
    "s = 'i am not happy whit you now'\n",
    "s = \" \".join([word for word in s.split()\n",
    "                  if word not in stopwords.words('english')\n",
    "                  or word in ['not', 'can']])\n",
    "s"
   ]
  },
  {
   "cell_type": "code",
   "execution_count": 6,
   "metadata": {
    "execution": {
     "iopub.execute_input": "2022-12-10T06:18:07.329708Z",
     "iopub.status.busy": "2022-12-10T06:18:07.328809Z",
     "iopub.status.idle": "2022-12-10T06:18:07.369029Z",
     "shell.execute_reply": "2022-12-10T06:18:07.364633Z",
     "shell.execute_reply.started": "2022-12-10T06:18:07.329667Z"
    }
   },
   "outputs": [
    {
     "data": {
      "text/html": [
       "<div>\n",
       "<style scoped>\n",
       "    .dataframe tbody tr th:only-of-type {\n",
       "        vertical-align: middle;\n",
       "    }\n",
       "\n",
       "    .dataframe tbody tr th {\n",
       "        vertical-align: top;\n",
       "    }\n",
       "\n",
       "    .dataframe thead th {\n",
       "        text-align: right;\n",
       "    }\n",
       "</style>\n",
       "<table border=\"1\" class=\"dataframe\">\n",
       "  <thead>\n",
       "    <tr style=\"text-align: right;\">\n",
       "      <th></th>\n",
       "      <th>id</th>\n",
       "      <th>keyword</th>\n",
       "      <th>location</th>\n",
       "      <th>text</th>\n",
       "      <th>target</th>\n",
       "    </tr>\n",
       "  </thead>\n",
       "  <tbody>\n",
       "    <tr>\n",
       "      <th>0</th>\n",
       "      <td>1</td>\n",
       "      <td>NaN</td>\n",
       "      <td>NaN</td>\n",
       "      <td>Our Deeds are the Reason of this #earthquake M...</td>\n",
       "      <td>1</td>\n",
       "    </tr>\n",
       "    <tr>\n",
       "      <th>1</th>\n",
       "      <td>4</td>\n",
       "      <td>NaN</td>\n",
       "      <td>NaN</td>\n",
       "      <td>Forest fire near La Ronge Sask. Canada</td>\n",
       "      <td>1</td>\n",
       "    </tr>\n",
       "    <tr>\n",
       "      <th>2</th>\n",
       "      <td>5</td>\n",
       "      <td>NaN</td>\n",
       "      <td>NaN</td>\n",
       "      <td>All residents asked to 'shelter in place' are ...</td>\n",
       "      <td>1</td>\n",
       "    </tr>\n",
       "    <tr>\n",
       "      <th>3</th>\n",
       "      <td>6</td>\n",
       "      <td>NaN</td>\n",
       "      <td>NaN</td>\n",
       "      <td>13,000 people receive #wildfires evacuation or...</td>\n",
       "      <td>1</td>\n",
       "    </tr>\n",
       "    <tr>\n",
       "      <th>4</th>\n",
       "      <td>7</td>\n",
       "      <td>NaN</td>\n",
       "      <td>NaN</td>\n",
       "      <td>Just got sent this photo from Ruby #Alaska as ...</td>\n",
       "      <td>1</td>\n",
       "    </tr>\n",
       "    <tr>\n",
       "      <th>5</th>\n",
       "      <td>8</td>\n",
       "      <td>NaN</td>\n",
       "      <td>NaN</td>\n",
       "      <td>#RockyFire Update =&gt; California Hwy. 20 closed...</td>\n",
       "      <td>1</td>\n",
       "    </tr>\n",
       "    <tr>\n",
       "      <th>6</th>\n",
       "      <td>10</td>\n",
       "      <td>NaN</td>\n",
       "      <td>NaN</td>\n",
       "      <td>#flood #disaster Heavy rain causes flash flood...</td>\n",
       "      <td>1</td>\n",
       "    </tr>\n",
       "    <tr>\n",
       "      <th>7</th>\n",
       "      <td>13</td>\n",
       "      <td>NaN</td>\n",
       "      <td>NaN</td>\n",
       "      <td>I'm on top of the hill and I can see a fire in...</td>\n",
       "      <td>1</td>\n",
       "    </tr>\n",
       "    <tr>\n",
       "      <th>8</th>\n",
       "      <td>14</td>\n",
       "      <td>NaN</td>\n",
       "      <td>NaN</td>\n",
       "      <td>There's an emergency evacuation happening now ...</td>\n",
       "      <td>1</td>\n",
       "    </tr>\n",
       "    <tr>\n",
       "      <th>9</th>\n",
       "      <td>15</td>\n",
       "      <td>NaN</td>\n",
       "      <td>NaN</td>\n",
       "      <td>I'm afraid that the tornado is coming to our a...</td>\n",
       "      <td>1</td>\n",
       "    </tr>\n",
       "  </tbody>\n",
       "</table>\n",
       "</div>"
      ],
      "text/plain": [
       "   id keyword location                                               text  \\\n",
       "0   1     NaN      NaN  Our Deeds are the Reason of this #earthquake M...   \n",
       "1   4     NaN      NaN             Forest fire near La Ronge Sask. Canada   \n",
       "2   5     NaN      NaN  All residents asked to 'shelter in place' are ...   \n",
       "3   6     NaN      NaN  13,000 people receive #wildfires evacuation or...   \n",
       "4   7     NaN      NaN  Just got sent this photo from Ruby #Alaska as ...   \n",
       "5   8     NaN      NaN  #RockyFire Update => California Hwy. 20 closed...   \n",
       "6  10     NaN      NaN  #flood #disaster Heavy rain causes flash flood...   \n",
       "7  13     NaN      NaN  I'm on top of the hill and I can see a fire in...   \n",
       "8  14     NaN      NaN  There's an emergency evacuation happening now ...   \n",
       "9  15     NaN      NaN  I'm afraid that the tornado is coming to our a...   \n",
       "\n",
       "   target  \n",
       "0       1  \n",
       "1       1  \n",
       "2       1  \n",
       "3       1  \n",
       "4       1  \n",
       "5       1  \n",
       "6       1  \n",
       "7       1  \n",
       "8       1  \n",
       "9       1  "
      ]
     },
     "execution_count": 6,
     "metadata": {},
     "output_type": "execute_result"
    }
   ],
   "source": [
    "train = pd.read_csv('./input/train.csv')\n",
    "train.head(10)"
   ]
  },
  {
   "cell_type": "code",
   "execution_count": 7,
   "metadata": {
    "execution": {
     "iopub.execute_input": "2022-12-10T06:18:07.372930Z",
     "iopub.status.busy": "2022-12-10T06:18:07.371895Z",
     "iopub.status.idle": "2022-12-10T06:18:07.561786Z",
     "shell.execute_reply": "2022-12-10T06:18:07.560697Z",
     "shell.execute_reply.started": "2022-12-10T06:18:07.372863Z"
    }
   },
   "outputs": [],
   "source": [
    "train['text_preprocessing'] = train['text'].apply(text_preprocessing)"
   ]
  },
  {
   "cell_type": "code",
   "execution_count": 8,
   "metadata": {
    "execution": {
     "iopub.execute_input": "2022-12-10T06:18:07.563631Z",
     "iopub.status.busy": "2022-12-10T06:18:07.563309Z",
     "iopub.status.idle": "2022-12-10T06:18:07.578078Z",
     "shell.execute_reply": "2022-12-10T06:18:07.576944Z",
     "shell.execute_reply.started": "2022-12-10T06:18:07.563598Z"
    }
   },
   "outputs": [
    {
     "data": {
      "text/html": [
       "<div>\n",
       "<style scoped>\n",
       "    .dataframe tbody tr th:only-of-type {\n",
       "        vertical-align: middle;\n",
       "    }\n",
       "\n",
       "    .dataframe tbody tr th {\n",
       "        vertical-align: top;\n",
       "    }\n",
       "\n",
       "    .dataframe thead th {\n",
       "        text-align: right;\n",
       "    }\n",
       "</style>\n",
       "<table border=\"1\" class=\"dataframe\">\n",
       "  <thead>\n",
       "    <tr style=\"text-align: right;\">\n",
       "      <th></th>\n",
       "      <th>id</th>\n",
       "      <th>keyword</th>\n",
       "      <th>location</th>\n",
       "      <th>text</th>\n",
       "      <th>target</th>\n",
       "      <th>text_preprocessing</th>\n",
       "    </tr>\n",
       "  </thead>\n",
       "  <tbody>\n",
       "    <tr>\n",
       "      <th>0</th>\n",
       "      <td>1</td>\n",
       "      <td>NaN</td>\n",
       "      <td>NaN</td>\n",
       "      <td>Our Deeds are the Reason of this #earthquake M...</td>\n",
       "      <td>1</td>\n",
       "      <td>our deeds are the reason of this earthquake ma...</td>\n",
       "    </tr>\n",
       "    <tr>\n",
       "      <th>1</th>\n",
       "      <td>4</td>\n",
       "      <td>NaN</td>\n",
       "      <td>NaN</td>\n",
       "      <td>Forest fire near La Ronge Sask. Canada</td>\n",
       "      <td>1</td>\n",
       "      <td>forest fire near la ronge sask canada</td>\n",
       "    </tr>\n",
       "    <tr>\n",
       "      <th>2</th>\n",
       "      <td>5</td>\n",
       "      <td>NaN</td>\n",
       "      <td>NaN</td>\n",
       "      <td>All residents asked to 'shelter in place' are ...</td>\n",
       "      <td>1</td>\n",
       "      <td>all residents asked to shelter in place are be...</td>\n",
       "    </tr>\n",
       "    <tr>\n",
       "      <th>3</th>\n",
       "      <td>6</td>\n",
       "      <td>NaN</td>\n",
       "      <td>NaN</td>\n",
       "      <td>13,000 people receive #wildfires evacuation or...</td>\n",
       "      <td>1</td>\n",
       "      <td>13,000 people receive wildfires evacuation ord...</td>\n",
       "    </tr>\n",
       "    <tr>\n",
       "      <th>4</th>\n",
       "      <td>7</td>\n",
       "      <td>NaN</td>\n",
       "      <td>NaN</td>\n",
       "      <td>Just got sent this photo from Ruby #Alaska as ...</td>\n",
       "      <td>1</td>\n",
       "      <td>just got sent this photo from ruby alaska as s...</td>\n",
       "    </tr>\n",
       "    <tr>\n",
       "      <th>5</th>\n",
       "      <td>8</td>\n",
       "      <td>NaN</td>\n",
       "      <td>NaN</td>\n",
       "      <td>#RockyFire Update =&gt; California Hwy. 20 closed...</td>\n",
       "      <td>1</td>\n",
       "      <td>rockyfire update california hwy 20 closed in b...</td>\n",
       "    </tr>\n",
       "    <tr>\n",
       "      <th>6</th>\n",
       "      <td>10</td>\n",
       "      <td>NaN</td>\n",
       "      <td>NaN</td>\n",
       "      <td>#flood #disaster Heavy rain causes flash flood...</td>\n",
       "      <td>1</td>\n",
       "      <td>flood disaster heavy rain causes flash floodin...</td>\n",
       "    </tr>\n",
       "    <tr>\n",
       "      <th>7</th>\n",
       "      <td>13</td>\n",
       "      <td>NaN</td>\n",
       "      <td>NaN</td>\n",
       "      <td>I'm on top of the hill and I can see a fire in...</td>\n",
       "      <td>1</td>\n",
       "      <td>i am on top of the hill and i can see a fire i...</td>\n",
       "    </tr>\n",
       "    <tr>\n",
       "      <th>8</th>\n",
       "      <td>14</td>\n",
       "      <td>NaN</td>\n",
       "      <td>NaN</td>\n",
       "      <td>There's an emergency evacuation happening now ...</td>\n",
       "      <td>1</td>\n",
       "      <td>there s an emergency evacuation happening now ...</td>\n",
       "    </tr>\n",
       "    <tr>\n",
       "      <th>9</th>\n",
       "      <td>15</td>\n",
       "      <td>NaN</td>\n",
       "      <td>NaN</td>\n",
       "      <td>I'm afraid that the tornado is coming to our a...</td>\n",
       "      <td>1</td>\n",
       "      <td>i am afraid that the tornado is coming to our ...</td>\n",
       "    </tr>\n",
       "  </tbody>\n",
       "</table>\n",
       "</div>"
      ],
      "text/plain": [
       "   id keyword location                                               text  \\\n",
       "0   1     NaN      NaN  Our Deeds are the Reason of this #earthquake M...   \n",
       "1   4     NaN      NaN             Forest fire near La Ronge Sask. Canada   \n",
       "2   5     NaN      NaN  All residents asked to 'shelter in place' are ...   \n",
       "3   6     NaN      NaN  13,000 people receive #wildfires evacuation or...   \n",
       "4   7     NaN      NaN  Just got sent this photo from Ruby #Alaska as ...   \n",
       "5   8     NaN      NaN  #RockyFire Update => California Hwy. 20 closed...   \n",
       "6  10     NaN      NaN  #flood #disaster Heavy rain causes flash flood...   \n",
       "7  13     NaN      NaN  I'm on top of the hill and I can see a fire in...   \n",
       "8  14     NaN      NaN  There's an emergency evacuation happening now ...   \n",
       "9  15     NaN      NaN  I'm afraid that the tornado is coming to our a...   \n",
       "\n",
       "   target                                 text_preprocessing  \n",
       "0       1  our deeds are the reason of this earthquake ma...  \n",
       "1       1              forest fire near la ronge sask canada  \n",
       "2       1  all residents asked to shelter in place are be...  \n",
       "3       1  13,000 people receive wildfires evacuation ord...  \n",
       "4       1  just got sent this photo from ruby alaska as s...  \n",
       "5       1  rockyfire update california hwy 20 closed in b...  \n",
       "6       1  flood disaster heavy rain causes flash floodin...  \n",
       "7       1  i am on top of the hill and i can see a fire i...  \n",
       "8       1  there s an emergency evacuation happening now ...  \n",
       "9       1  i am afraid that the tornado is coming to our ...  "
      ]
     },
     "execution_count": 8,
     "metadata": {},
     "output_type": "execute_result"
    }
   ],
   "source": [
    "train.head(10)"
   ]
  },
  {
   "cell_type": "code",
   "execution_count": 9,
   "metadata": {
    "execution": {
     "iopub.execute_input": "2022-12-10T06:18:07.580612Z",
     "iopub.status.busy": "2022-12-10T06:18:07.580241Z",
     "iopub.status.idle": "2022-12-10T06:18:07.600480Z",
     "shell.execute_reply": "2022-12-10T06:18:07.598559Z",
     "shell.execute_reply.started": "2022-12-10T06:18:07.580585Z"
    }
   },
   "outputs": [
    {
     "data": {
      "text/plain": [
       "(3271, 4342, 7613)"
      ]
     },
     "execution_count": 9,
     "metadata": {},
     "output_type": "execute_result"
    }
   ],
   "source": [
    "len(train[train['target']==1]),len(train[train['target']==0]),len(train[train['keyword']!=np.nan])"
   ]
  },
  {
   "cell_type": "code",
   "execution_count": 10,
   "metadata": {
    "execution": {
     "iopub.execute_input": "2022-12-10T06:18:07.607673Z",
     "iopub.status.busy": "2022-12-10T06:18:07.607248Z",
     "iopub.status.idle": "2022-12-10T06:18:07.631165Z",
     "shell.execute_reply": "2022-12-10T06:18:07.629858Z",
     "shell.execute_reply.started": "2022-12-10T06:18:07.607643Z"
    }
   },
   "outputs": [
    {
     "data": {
      "text/html": [
       "<div>\n",
       "<style scoped>\n",
       "    .dataframe tbody tr th:only-of-type {\n",
       "        vertical-align: middle;\n",
       "    }\n",
       "\n",
       "    .dataframe tbody tr th {\n",
       "        vertical-align: top;\n",
       "    }\n",
       "\n",
       "    .dataframe thead th {\n",
       "        text-align: right;\n",
       "    }\n",
       "</style>\n",
       "<table border=\"1\" class=\"dataframe\">\n",
       "  <thead>\n",
       "    <tr style=\"text-align: right;\">\n",
       "      <th></th>\n",
       "      <th>id</th>\n",
       "      <th>keyword</th>\n",
       "      <th>location</th>\n",
       "      <th>text</th>\n",
       "    </tr>\n",
       "  </thead>\n",
       "  <tbody>\n",
       "    <tr>\n",
       "      <th>0</th>\n",
       "      <td>0</td>\n",
       "      <td>NaN</td>\n",
       "      <td>NaN</td>\n",
       "      <td>Just happened a terrible car crash</td>\n",
       "    </tr>\n",
       "    <tr>\n",
       "      <th>1</th>\n",
       "      <td>2</td>\n",
       "      <td>NaN</td>\n",
       "      <td>NaN</td>\n",
       "      <td>Heard about #earthquake is different cities, s...</td>\n",
       "    </tr>\n",
       "    <tr>\n",
       "      <th>2</th>\n",
       "      <td>3</td>\n",
       "      <td>NaN</td>\n",
       "      <td>NaN</td>\n",
       "      <td>there is a forest fire at spot pond, geese are...</td>\n",
       "    </tr>\n",
       "    <tr>\n",
       "      <th>3</th>\n",
       "      <td>9</td>\n",
       "      <td>NaN</td>\n",
       "      <td>NaN</td>\n",
       "      <td>Apocalypse lighting. #Spokane #wildfires</td>\n",
       "    </tr>\n",
       "    <tr>\n",
       "      <th>4</th>\n",
       "      <td>11</td>\n",
       "      <td>NaN</td>\n",
       "      <td>NaN</td>\n",
       "      <td>Typhoon Soudelor kills 28 in China and Taiwan</td>\n",
       "    </tr>\n",
       "  </tbody>\n",
       "</table>\n",
       "</div>"
      ],
      "text/plain": [
       "   id keyword location                                               text\n",
       "0   0     NaN      NaN                 Just happened a terrible car crash\n",
       "1   2     NaN      NaN  Heard about #earthquake is different cities, s...\n",
       "2   3     NaN      NaN  there is a forest fire at spot pond, geese are...\n",
       "3   9     NaN      NaN           Apocalypse lighting. #Spokane #wildfires\n",
       "4  11     NaN      NaN      Typhoon Soudelor kills 28 in China and Taiwan"
      ]
     },
     "execution_count": 10,
     "metadata": {},
     "output_type": "execute_result"
    }
   ],
   "source": [
    "test = pd.read_csv('./input/test.csv')\n",
    "test.head()"
   ]
  },
  {
   "cell_type": "code",
   "execution_count": 11,
   "metadata": {
    "execution": {
     "iopub.execute_input": "2022-12-10T06:18:07.634017Z",
     "iopub.status.busy": "2022-12-10T06:18:07.633645Z",
     "iopub.status.idle": "2022-12-10T06:18:07.727180Z",
     "shell.execute_reply": "2022-12-10T06:18:07.725716Z",
     "shell.execute_reply.started": "2022-12-10T06:18:07.633990Z"
    }
   },
   "outputs": [
    {
     "data": {
      "text/html": [
       "<div>\n",
       "<style scoped>\n",
       "    .dataframe tbody tr th:only-of-type {\n",
       "        vertical-align: middle;\n",
       "    }\n",
       "\n",
       "    .dataframe tbody tr th {\n",
       "        vertical-align: top;\n",
       "    }\n",
       "\n",
       "    .dataframe thead th {\n",
       "        text-align: right;\n",
       "    }\n",
       "</style>\n",
       "<table border=\"1\" class=\"dataframe\">\n",
       "  <thead>\n",
       "    <tr style=\"text-align: right;\">\n",
       "      <th></th>\n",
       "      <th>id</th>\n",
       "      <th>keyword</th>\n",
       "      <th>location</th>\n",
       "      <th>text</th>\n",
       "      <th>text_preprocessing</th>\n",
       "    </tr>\n",
       "  </thead>\n",
       "  <tbody>\n",
       "    <tr>\n",
       "      <th>0</th>\n",
       "      <td>0</td>\n",
       "      <td>NaN</td>\n",
       "      <td>NaN</td>\n",
       "      <td>Just happened a terrible car crash</td>\n",
       "      <td>just happened a terrible car crash</td>\n",
       "    </tr>\n",
       "    <tr>\n",
       "      <th>1</th>\n",
       "      <td>2</td>\n",
       "      <td>NaN</td>\n",
       "      <td>NaN</td>\n",
       "      <td>Heard about #earthquake is different cities, s...</td>\n",
       "      <td>heard about earthquake is different cities, st...</td>\n",
       "    </tr>\n",
       "    <tr>\n",
       "      <th>2</th>\n",
       "      <td>3</td>\n",
       "      <td>NaN</td>\n",
       "      <td>NaN</td>\n",
       "      <td>there is a forest fire at spot pond, geese are...</td>\n",
       "      <td>there is a forest fire at spot pond, geese are...</td>\n",
       "    </tr>\n",
       "    <tr>\n",
       "      <th>3</th>\n",
       "      <td>9</td>\n",
       "      <td>NaN</td>\n",
       "      <td>NaN</td>\n",
       "      <td>Apocalypse lighting. #Spokane #wildfires</td>\n",
       "      <td>apocalypse lighting spokane wildfires</td>\n",
       "    </tr>\n",
       "    <tr>\n",
       "      <th>4</th>\n",
       "      <td>11</td>\n",
       "      <td>NaN</td>\n",
       "      <td>NaN</td>\n",
       "      <td>Typhoon Soudelor kills 28 in China and Taiwan</td>\n",
       "      <td>typhoon soudelor kills 28 in china and taiwan</td>\n",
       "    </tr>\n",
       "  </tbody>\n",
       "</table>\n",
       "</div>"
      ],
      "text/plain": [
       "   id keyword location                                               text  \\\n",
       "0   0     NaN      NaN                 Just happened a terrible car crash   \n",
       "1   2     NaN      NaN  Heard about #earthquake is different cities, s...   \n",
       "2   3     NaN      NaN  there is a forest fire at spot pond, geese are...   \n",
       "3   9     NaN      NaN           Apocalypse lighting. #Spokane #wildfires   \n",
       "4  11     NaN      NaN      Typhoon Soudelor kills 28 in China and Taiwan   \n",
       "\n",
       "                                  text_preprocessing  \n",
       "0                 just happened a terrible car crash  \n",
       "1  heard about earthquake is different cities, st...  \n",
       "2  there is a forest fire at spot pond, geese are...  \n",
       "3              apocalypse lighting spokane wildfires  \n",
       "4      typhoon soudelor kills 28 in china and taiwan  "
      ]
     },
     "execution_count": 11,
     "metadata": {},
     "output_type": "execute_result"
    }
   ],
   "source": [
    "test['text_preprocessing'] = test['text'].apply(text_preprocessing)\n",
    "test.head()"
   ]
  },
  {
   "cell_type": "code",
   "execution_count": 12,
   "metadata": {
    "execution": {
     "iopub.execute_input": "2022-12-10T06:18:07.729507Z",
     "iopub.status.busy": "2022-12-10T06:18:07.729168Z",
     "iopub.status.idle": "2022-12-10T06:18:07.742946Z",
     "shell.execute_reply": "2022-12-10T06:18:07.741662Z",
     "shell.execute_reply.started": "2022-12-10T06:18:07.729480Z"
    }
   },
   "outputs": [
    {
     "data": {
      "text/plain": [
       "(3263, 3263)"
      ]
     },
     "execution_count": 12,
     "metadata": {},
     "output_type": "execute_result"
    }
   ],
   "source": [
    "\n",
    "sample_submission = pd.read_csv('./input/sample_submission.csv')\n",
    "len(sample_submission),len(test)"
   ]
  },
  {
   "cell_type": "code",
   "execution_count": 13,
   "metadata": {
    "execution": {
     "iopub.execute_input": "2022-12-10T06:18:07.744981Z",
     "iopub.status.busy": "2022-12-10T06:18:07.744602Z",
     "iopub.status.idle": "2022-12-10T06:18:07.758473Z",
     "shell.execute_reply": "2022-12-10T06:18:07.756487Z",
     "shell.execute_reply.started": "2022-12-10T06:18:07.744941Z"
    }
   },
   "outputs": [
    {
     "data": {
      "text/plain": [
       "(0, 3263)"
      ]
     },
     "execution_count": 13,
     "metadata": {},
     "output_type": "execute_result"
    }
   ],
   "source": [
    "len(sample_submission[sample_submission['target']==1]),len(sample_submission[sample_submission['target']==0])"
   ]
  },
  {
   "cell_type": "code",
   "execution_count": 14,
   "metadata": {
    "execution": {
     "iopub.execute_input": "2022-12-10T06:18:07.760924Z",
     "iopub.status.busy": "2022-12-10T06:18:07.760512Z",
     "iopub.status.idle": "2022-12-10T06:18:07.778514Z",
     "shell.execute_reply": "2022-12-10T06:18:07.777797Z",
     "shell.execute_reply.started": "2022-12-10T06:18:07.760895Z"
    }
   },
   "outputs": [
    {
     "data": {
      "text/plain": [
       "{'sent': 'our deeds are the reason of this earthquake may allah forgive us all',\n",
       " 'label': 1}"
      ]
     },
     "execution_count": 14,
     "metadata": {},
     "output_type": "execute_result"
    }
   ],
   "source": [
    "sents = []\n",
    "for text,label in zip(train['text_preprocessing'].values,train['target'].values):\n",
    "    dic_tmp ={\"sent\": text,'label':label}\n",
    "    sents.append(dic_tmp)\n",
    "len(sents)\n",
    "sents[0]"
   ]
  },
  {
   "cell_type": "code",
   "execution_count": 15,
   "metadata": {
    "execution": {
     "iopub.execute_input": "2022-12-10T06:18:07.780270Z",
     "iopub.status.busy": "2022-12-10T06:18:07.780012Z",
     "iopub.status.idle": "2022-12-10T06:18:07.808979Z",
     "shell.execute_reply": "2022-12-10T06:18:07.805699Z",
     "shell.execute_reply.started": "2022-12-10T06:18:07.780238Z"
    }
   },
   "outputs": [
    {
     "data": {
      "text/plain": [
       "(6851, 762)"
      ]
     },
     "execution_count": 15,
     "metadata": {},
     "output_type": "execute_result"
    }
   ],
   "source": [
    "train_data,val_data = train_test_split(sents,test_size=0.1, random_state=2022)\n",
    "len(train_data),len(val_data)"
   ]
  },
  {
   "cell_type": "code",
   "execution_count": 16,
   "metadata": {
    "execution": {
     "iopub.execute_input": "2022-12-10T06:18:07.811489Z",
     "iopub.status.busy": "2022-12-10T06:18:07.811065Z",
     "iopub.status.idle": "2022-12-10T06:18:08.386399Z",
     "shell.execute_reply": "2022-12-10T06:18:08.383996Z",
     "shell.execute_reply.started": "2022-12-10T06:18:07.811454Z"
    }
   },
   "outputs": [
    {
     "data": {
      "application/vnd.jupyter.widget-view+json": {
       "model_id": "2eb3a860b2f74efbb3a1a4cf28174a50",
       "version_major": 2,
       "version_minor": 0
      },
      "text/plain": [
       "Downloading:   0%|          | 0.00/232k [00:00<?, ?B/s]"
      ]
     },
     "metadata": {},
     "output_type": "display_data"
    },
    {
     "data": {
      "application/vnd.jupyter.widget-view+json": {
       "model_id": "bed24af45b8b413dbcb37a0ad0ace798",
       "version_major": 2,
       "version_minor": 0
      },
      "text/plain": [
       "Downloading:   0%|          | 0.00/28.0 [00:00<?, ?B/s]"
      ]
     },
     "metadata": {},
     "output_type": "display_data"
    },
    {
     "data": {
      "application/vnd.jupyter.widget-view+json": {
       "model_id": "f3d9dec6e7e4428bb1bb87097cd8fc47",
       "version_major": 2,
       "version_minor": 0
      },
      "text/plain": [
       "Downloading:   0%|          | 0.00/466k [00:00<?, ?B/s]"
      ]
     },
     "metadata": {},
     "output_type": "display_data"
    }
   ],
   "source": [
    "\n",
    "tokenizer = BertTokenizer.from_pretrained('bert-base-uncased', do_lower_case=True,cache_dir=os.path.join(os.getcwd(),\"bert-base-uncased_cache\"))\n"
   ]
  },
  {
   "cell_type": "code",
   "execution_count": 17,
   "metadata": {
    "execution": {
     "iopub.execute_input": "2022-12-10T06:18:08.387983Z",
     "iopub.status.busy": "2022-12-10T06:18:08.387713Z",
     "iopub.status.idle": "2022-12-10T06:18:13.082978Z",
     "shell.execute_reply": "2022-12-10T06:18:13.081712Z",
     "shell.execute_reply.started": "2022-12-10T06:18:08.387958Z"
    }
   },
   "outputs": [
    {
     "name": "stdout",
     "output_type": "stream",
     "text": [
      "Max length:  78\n"
     ]
    }
   ],
   "source": [
    "# Encode our concatenated data\n",
    "encoded_tweets = [tokenizer.encode(sent['sent'], add_special_tokens=True) for sent in sents]\n",
    "# Find the maximum length\n",
    "max_len = max([len(sent) for sent in encoded_tweets])\n",
    "print('Max length: ', max_len)"
   ]
  },
  {
   "cell_type": "code",
   "execution_count": 18,
   "metadata": {
    "execution": {
     "iopub.execute_input": "2022-12-10T06:18:13.085514Z",
     "iopub.status.busy": "2022-12-10T06:18:13.085115Z",
     "iopub.status.idle": "2022-12-10T06:18:13.090179Z",
     "shell.execute_reply": "2022-12-10T06:18:13.088921Z",
     "shell.execute_reply.started": "2022-12-10T06:18:13.085487Z"
    }
   },
   "outputs": [],
   "source": [
    "# specify a MAX_LEN you like\n",
    "MAX_LEN=64"
   ]
  },
  {
   "cell_type": "code",
   "execution_count": 19,
   "metadata": {
    "execution": {
     "iopub.execute_input": "2022-12-10T06:18:13.093804Z",
     "iopub.status.busy": "2022-12-10T06:18:13.092079Z",
     "iopub.status.idle": "2022-12-10T06:18:13.113339Z",
     "shell.execute_reply": "2022-12-10T06:18:13.110387Z",
     "shell.execute_reply.started": "2022-12-10T06:18:13.093767Z"
    }
   },
   "outputs": [
    {
     "name": "stdout",
     "output_type": "stream",
     "text": [
      "No GPU available, using the CPU instead.\n"
     ]
    }
   ],
   "source": [
    "def get_device():\n",
    "    if torch.cuda.is_available():       \n",
    "        device = torch.device(\"cuda\")\n",
    "        print(f'There are {torch.cuda.device_count()} GPU(s) available.')\n",
    "        print('Device name:', torch.cuda.get_device_name(0))\n",
    "\n",
    "    else:\n",
    "        print('No GPU available, using the CPU instead.')\n",
    "        device = torch.device(\"cpu\")\n",
    "    return device\n",
    "device = get_device()"
   ]
  },
  {
   "cell_type": "code",
   "execution_count": 20,
   "metadata": {
    "execution": {
     "iopub.execute_input": "2022-12-10T06:18:13.116341Z",
     "iopub.status.busy": "2022-12-10T06:18:13.115767Z",
     "iopub.status.idle": "2022-12-10T06:18:13.132111Z",
     "shell.execute_reply": "2022-12-10T06:18:13.130116Z",
     "shell.execute_reply.started": "2022-12-10T06:18:13.116272Z"
    }
   },
   "outputs": [],
   "source": [
    "def preprocessing_for_bert(data):\n",
    "    \"\"\"Perform required preprocessing steps for pretrained BERT.\n",
    "    @param    data (np.array): Array of texts to be processed.\n",
    "    @return   input_ids (torch.Tensor): Tensor of token ids to be fed to a model.\n",
    "    @return   attention_masks (torch.Tensor): Tensor of indices specifying which\n",
    "                  tokens should be attended to by the model.\n",
    "    \"\"\"\n",
    "    # Create empty lists to store outputs\n",
    "    input_ids = []\n",
    "    attention_masks = []\n",
    "    token_type_ids= []\n",
    "    # For every sentence...\n",
    "    for sent in data:\n",
    "        # `encode_plus` will:\n",
    "        #    (1) Tokenize the sentence\n",
    "        #    (2) Add the `[CLS]` and `[SEP]` token to the start and end\n",
    "        #    (3) Truncate/Pad sentence to max length\n",
    "        #    (4) Map tokens to their IDs\n",
    "        #    (5) Create attention mask\n",
    "        #    (6) Return a dictionary of outputs\n",
    "        encoded_sent = tokenizer.encode_plus(\n",
    "            text=sent[\"sent\"].lower(),#The first sequence to be encoded\n",
    "            #text_pair=text_preprocessing_data2(sent[\"sent2\"].lower()),# second sequence to be encoded\n",
    "            add_special_tokens=True,        # Add `[CLS]` and `[SEP]`\n",
    "            max_length=MAX_LEN,                  # Max length to truncate/pad\n",
    "            pad_to_max_length=True,         # Pad sentence to max length\n",
    "            truncation=True,\n",
    "            return_token_type_ids=True,\n",
    "#             return_tensors='pt',           # Return PyTorch tensor\n",
    "            return_attention_mask=True      # Return attention mask\n",
    "            )\n",
    "        \n",
    "        # Add the outputs to the lists\n",
    "        input_ids.append(encoded_sent.get('input_ids'))\n",
    "        attention_masks.append(encoded_sent.get('attention_mask'))\n",
    "        token_type_ids.append(encoded_sent.get('token_type_ids'))\n",
    "\n",
    "    # Convert lists to tensors\n",
    "    input_ids = torch.tensor(input_ids)\n",
    "    attention_masks = torch.tensor(attention_masks)\n",
    "    token_type_ids =  torch.tensor(token_type_ids)\n",
    "    return input_ids, attention_masks, token_type_ids"
   ]
  },
  {
   "cell_type": "code",
   "execution_count": 21,
   "metadata": {
    "execution": {
     "iopub.execute_input": "2022-12-10T06:18:13.134730Z",
     "iopub.status.busy": "2022-12-10T06:18:13.134399Z",
     "iopub.status.idle": "2022-12-10T06:18:13.163031Z",
     "shell.execute_reply": "2022-12-10T06:18:13.161922Z",
     "shell.execute_reply.started": "2022-12-10T06:18:13.134703Z"
    }
   },
   "outputs": [
    {
     "data": {
      "text/plain": [
       "(tensor([0, 0, 1,  ..., 1, 1, 0]),\n",
       " tensor([1, 1, 0, 0, 1, 1, 0, 1, 0, 0, 0, 1, 0, 1, 0, 1, 1, 1, 1, 1, 0, 1, 0, 1,\n",
       "         0, 1, 0, 1, 0, 0, 1, 1, 0, 0, 0, 0, 1, 0, 1, 0, 1, 0, 0, 1, 0, 0, 0, 1,\n",
       "         1, 1, 0, 0, 0, 0, 0, 1, 0, 0, 1, 0, 0, 1, 0, 0, 1, 0, 0, 0, 1, 0, 0, 0,\n",
       "         0, 0, 0, 0, 0, 1, 0, 0, 1, 1, 1, 0, 0, 0, 0, 0, 1, 0, 0, 0, 0, 0, 0, 1,\n",
       "         0, 0, 1, 1, 0, 0, 0, 1, 1, 1, 0, 0, 0, 1, 0, 1, 1, 0, 1, 0, 1, 0, 0, 1,\n",
       "         0, 1, 1, 0, 1, 0, 1, 1, 1, 0, 1, 0, 0, 1, 0, 1, 1, 1, 0, 0, 0, 0, 1, 0,\n",
       "         0, 1, 0, 0, 0, 1, 1, 1, 1, 1, 0, 0, 0, 1, 1, 1, 1, 0, 0, 0, 1, 0, 1, 0,\n",
       "         0, 1, 1, 0, 1, 1, 0, 1, 1, 0, 0, 0, 0, 0, 0, 0, 1, 0, 0, 1, 0, 1, 0, 0,\n",
       "         1, 0, 0, 1, 1, 0, 1, 0, 1, 1, 0, 0, 0, 1, 0, 0, 0, 0, 1, 0, 1, 0, 1, 0,\n",
       "         1, 0, 0, 0, 0, 1, 0, 1, 0, 1, 1, 1, 0, 1, 0, 0, 1, 0, 1, 1, 0, 0, 1, 0,\n",
       "         0, 1, 0, 1, 0, 1, 0, 0, 0, 0, 1, 1, 0, 1, 0, 1, 0, 0, 0, 0, 0, 0, 0, 0,\n",
       "         1, 1, 0, 0, 0, 0, 0, 1, 0, 0, 1, 0, 1, 0, 0, 0, 1, 0, 0, 0, 0, 1, 0, 1,\n",
       "         0, 1, 1, 0, 1, 0, 1, 0, 0, 0, 1, 1, 1, 0, 1, 0, 0, 0, 1, 1, 1, 1, 1, 0,\n",
       "         1, 0, 1, 0, 0, 0, 0, 0, 1, 0, 0, 1, 1, 1, 1, 1, 1, 0, 0, 0, 0, 1, 0, 1,\n",
       "         0, 1, 0, 0, 0, 0, 0, 0, 0, 0, 0, 0, 0, 1, 0, 1, 1, 0, 0, 0, 0, 1, 1, 1,\n",
       "         1, 1, 0, 1, 0, 0, 0, 1, 0, 1, 0, 1, 1, 0, 1, 0, 0, 0, 0, 1, 1, 1, 0, 0,\n",
       "         0, 0, 0, 0, 0, 0, 0, 0, 1, 1, 0, 0, 0, 0, 1, 0, 0, 1, 1, 1, 0, 0, 0, 1,\n",
       "         0, 1, 0, 1, 0, 1, 1, 1, 1, 0, 1, 0, 1, 1, 1, 0, 1, 1, 1, 0, 1, 0, 0, 0,\n",
       "         0, 1, 0, 0, 0, 0, 0, 0, 1, 1, 1, 1, 0, 0, 0, 0, 0, 0, 0, 1, 0, 1, 1, 0,\n",
       "         0, 0, 1, 0, 1, 0, 1, 1, 1, 1, 1, 1, 1, 0, 0, 1, 0, 0, 0, 0, 1, 1, 1, 1,\n",
       "         0, 0, 1, 0, 0, 1, 1, 0, 1, 0, 0, 1, 0, 0, 0, 0, 1, 0, 1, 0, 1, 0, 1, 0,\n",
       "         0, 0, 1, 0, 0, 1, 1, 0, 1, 1, 1, 0, 1, 0, 0, 0, 0, 1, 0, 0, 0, 1, 0, 0,\n",
       "         0, 1, 1, 0, 0, 0, 0, 1, 0, 0, 1, 1, 0, 1, 1, 1, 0, 0, 1, 0, 0, 1, 0, 1,\n",
       "         0, 0, 1, 0, 1, 0, 0, 0, 0, 1, 0, 0, 0, 0, 0, 0, 1, 1, 1, 1, 0, 1, 1, 0,\n",
       "         0, 0, 1, 0, 0, 0, 0, 0, 0, 0, 1, 0, 0, 0, 1, 0, 0, 0, 0, 0, 1, 0, 1, 1,\n",
       "         0, 0, 0, 0, 0, 0, 1, 1, 1, 0, 1, 1, 1, 1, 1, 1, 1, 0, 0, 0, 1, 1, 1, 1,\n",
       "         1, 1, 0, 1, 0, 0, 1, 0, 1, 0, 1, 1, 0, 0, 0, 1, 0, 0, 1, 0, 0, 1, 0, 0,\n",
       "         1, 1, 1, 0, 1, 1, 1, 1, 1, 0, 1, 0, 0, 0, 0, 1, 0, 1, 0, 1, 0, 1, 0, 0,\n",
       "         1, 0, 1, 1, 1, 0, 0, 1, 0, 0, 1, 0, 0, 1, 0, 0, 0, 0, 0, 1, 1, 0, 1, 0,\n",
       "         0, 1, 1, 0, 0, 0, 1, 0, 0, 0, 0, 0, 1, 0, 0, 1, 0, 0, 0, 0, 1, 0, 0, 0,\n",
       "         1, 1, 0, 1, 1, 0, 1, 0, 1, 1, 0, 1, 0, 0, 1, 0, 1, 1, 0, 1, 0, 1, 0, 0,\n",
       "         0, 0, 0, 1, 0, 1, 0, 0, 1, 0, 0, 0, 1, 0, 0, 1, 1, 1]))"
      ]
     },
     "execution_count": 21,
     "metadata": {},
     "output_type": "execute_result"
    }
   ],
   "source": [
    "#Convert  labels to torch.Tensor\n",
    "train_labels = torch.tensor([t[\"label\"] for t in train_data])\n",
    "val_labels = torch.tensor([t[\"label\"] for t in val_data])\n",
    "train_labels,val_labels"
   ]
  },
  {
   "cell_type": "code",
   "execution_count": 22,
   "metadata": {
    "execution": {
     "iopub.execute_input": "2022-12-10T06:18:13.165252Z",
     "iopub.status.busy": "2022-12-10T06:18:13.164730Z",
     "iopub.status.idle": "2022-12-10T06:18:13.179640Z",
     "shell.execute_reply": "2022-12-10T06:18:13.177914Z",
     "shell.execute_reply.started": "2022-12-10T06:18:13.165208Z"
    }
   },
   "outputs": [
    {
     "data": {
      "text/plain": [
       "(2953, 3898)"
      ]
     },
     "execution_count": 22,
     "metadata": {},
     "output_type": "execute_result"
    }
   ],
   "source": [
    "torch.count_nonzero(train_labels).item(),len(train_labels)-torch.count_nonzero(train_labels).item()"
   ]
  },
  {
   "cell_type": "code",
   "execution_count": 23,
   "metadata": {
    "execution": {
     "iopub.execute_input": "2022-12-10T06:18:13.181504Z",
     "iopub.status.busy": "2022-12-10T06:18:13.181061Z",
     "iopub.status.idle": "2022-12-10T06:18:13.192026Z",
     "shell.execute_reply": "2022-12-10T06:18:13.190658Z",
     "shell.execute_reply.started": "2022-12-10T06:18:13.181469Z"
    }
   },
   "outputs": [
    {
     "data": {
      "text/plain": [
       "(318, 444)"
      ]
     },
     "execution_count": 23,
     "metadata": {},
     "output_type": "execute_result"
    }
   ],
   "source": [
    "torch.count_nonzero(val_labels).item(),len(val_labels)-torch.count_nonzero(val_labels).item()"
   ]
  },
  {
   "cell_type": "code",
   "execution_count": 24,
   "metadata": {
    "execution": {
     "iopub.execute_input": "2022-12-10T06:18:13.198154Z",
     "iopub.status.busy": "2022-12-10T06:18:13.197380Z",
     "iopub.status.idle": "2022-12-10T06:18:18.065274Z",
     "shell.execute_reply": "2022-12-10T06:18:18.063780Z",
     "shell.execute_reply.started": "2022-12-10T06:18:13.198091Z"
    }
   },
   "outputs": [
    {
     "name": "stderr",
     "output_type": "stream",
     "text": [
      "C:\\ProgramData\\Anaconda3\\lib\\site-packages\\transformers\\tokenization_utils_base.py:2184: FutureWarning: The `pad_to_max_length` argument is deprecated and will be removed in a future version, use `padding=True` or `padding='longest'` to pad to the longest sequence in the batch, or use `padding='max_length'` to pad to a max length. In this case, you can give a specific length with `max_length` (e.g. `max_length=45`) or leave max_length to None to pad to the maximal input size of the model (e.g. 512 for Bert).\n",
      "  warnings.warn(\n"
     ]
    }
   ],
   "source": [
    "train_inputs, train_masks , train_token_type_ids = preprocessing_for_bert(train_data)\n",
    "val_inputs, val_masks ,val_token_type_ids= preprocessing_for_bert(val_data)"
   ]
  },
  {
   "cell_type": "code",
   "execution_count": 25,
   "metadata": {
    "execution": {
     "iopub.execute_input": "2022-12-10T06:18:18.066857Z",
     "iopub.status.busy": "2022-12-10T06:18:18.066586Z",
     "iopub.status.idle": "2022-12-10T06:18:18.074021Z",
     "shell.execute_reply": "2022-12-10T06:18:18.073068Z",
     "shell.execute_reply.started": "2022-12-10T06:18:18.066829Z"
    }
   },
   "outputs": [],
   "source": [
    "#Create PyTorch DataLoader\n",
    "\n",
    "# For fine-tuning BERT, the authors recommend a batch size of 16 or 32.\n",
    "batch_size = 16\n",
    "\n",
    "# Create the DataLoader for our training set\n",
    "train_data = TensorDataset(train_inputs, train_masks,train_token_type_ids, train_labels)\n",
    "train_sampler = RandomSampler(train_data)\n",
    "train_dataloader = DataLoader(train_data, sampler=train_sampler, batch_size=batch_size)\n",
    "\n",
    "\n",
    "# Create the DataLoader for our validation set\n",
    "val_data = TensorDataset(val_inputs, val_masks, val_token_type_ids,val_labels)\n",
    "val_sampler = SequentialSampler(val_data)\n",
    "val_dataloader = DataLoader(val_data, sampler=val_sampler, batch_size=batch_size)"
   ]
  },
  {
   "cell_type": "code",
   "execution_count": 26,
   "metadata": {
    "execution": {
     "iopub.execute_input": "2022-12-10T06:18:18.076700Z",
     "iopub.status.busy": "2022-12-10T06:18:18.075585Z",
     "iopub.status.idle": "2022-12-10T06:18:18.093788Z",
     "shell.execute_reply": "2022-12-10T06:18:18.092524Z",
     "shell.execute_reply.started": "2022-12-10T06:18:18.076664Z"
    }
   },
   "outputs": [
    {
     "name": "stdout",
     "output_type": "stream",
     "text": [
      "Wall time: 1.97 ms\n"
     ]
    }
   ],
   "source": [
    "%%time\n",
    "import torch\n",
    "import torch.nn as nn\n",
    "from transformers import BertModel\n",
    "\n",
    "# Create the BertClassfier class\n",
    "class BertClassifier(nn.Module):\n",
    "    \"\"\"Bert Model for Classification Tasks.\n",
    "    \"\"\"\n",
    "    def __init__(self, freeze_bert=False):\n",
    "        \"\"\"\n",
    "        @param    bert: a BertModel object\n",
    "        @param    classifier: a torch.nn.Module classifier\n",
    "        @param    freeze_bert (bool): Set `False` to fine-tune the BERT model\n",
    "        \"\"\"\n",
    "        super(BertClassifier, self).__init__()\n",
    "        # Specify hidden size of BERT, hidden size of our classifier, and number of labels\n",
    "        # bert base 768 hidden dimension\n",
    "        # bert large 1024 hidden dimension\n",
    "        D_in, H, D_out = 768, 64, 2\n",
    "        unfreeze_layers = ['layer.10','layer.11','bert.pooler','out.']\n",
    "        # Instantiate BERT model\n",
    "        self.bert = BertModel.from_pretrained('bert-base-uncased')\n",
    "\n",
    "        # Instantiate an one-layer feed-forward classifier\n",
    "        self.classifier = nn.Sequential(\n",
    "            nn.Linear(D_in, H),\n",
    "            nn.ReLU(),\n",
    "            #nn.Dropout(0.1),\n",
    "            nn.Linear(H, D_out)\n",
    "        )\n",
    "\n",
    "        # Freeze the BERT model\n",
    "        if freeze_bert:\n",
    "#             for name, param in self.bert.named_parameters():\n",
    "#                 print(name,param.size())\n",
    " \n",
    "#             print(\"*\"*30)\n",
    "#             print('\\n')\n",
    " \n",
    "            for name ,param in self.bert.named_parameters():\n",
    "                param.requires_grad = False\n",
    "                for ele in unfreeze_layers:\n",
    "                    if ele in name:\n",
    "                        param.requires_grad = True\n",
    "                        break\n",
    "#             #验证一下\n",
    "#             for name, param in self.bert.named_parameters():\n",
    "#                 if param.requires_grad:\n",
    "#                     print(name,param.size())\n",
    "\n",
    "        \n",
    "    def forward(self, input_ids, attention_mask, token_type_ids):\n",
    "        \"\"\"\n",
    "        Feed input to BERT and the classifier to compute logits.\n",
    "        @param    input_ids (torch.Tensor): an input tensor with shape (batch_size,\n",
    "                      max_length)\n",
    "        @param    attention_mask (torch.Tensor): a tensor that hold attention mask\n",
    "                      information with shape (batch_size, max_length)\n",
    "        @return   logits (torch.Tensor): an output tensor with shape (batch_size,\n",
    "                      num_labels)\n",
    "        \"\"\"\n",
    "        # Feed input to BERT\n",
    "        outputs = self.bert(input_ids=input_ids,\n",
    "                            token_type_ids=token_type_ids,\n",
    "                            attention_mask=attention_mask)\n",
    "        \n",
    "        # Extract the last hidden state of the token `[CLS]` for classification task\n",
    "        last_hidden_state_cls = outputs[0][:, 0, :]\n",
    "\n",
    "        # Feed input to classifier to compute logits\n",
    "        logits = self.classifier(last_hidden_state_cls)\n",
    "\n",
    "        return logits"
   ]
  },
  {
   "cell_type": "code",
   "execution_count": 27,
   "metadata": {
    "execution": {
     "iopub.execute_input": "2022-12-10T06:18:18.096607Z",
     "iopub.status.busy": "2022-12-10T06:18:18.096060Z",
     "iopub.status.idle": "2022-12-10T06:18:18.112883Z",
     "shell.execute_reply": "2022-12-10T06:18:18.111383Z",
     "shell.execute_reply.started": "2022-12-10T06:18:18.096563Z"
    }
   },
   "outputs": [],
   "source": [
    "def get_scheduler(optimizer, scheduler: str, warmup_steps: int, t_total: int):\n",
    "        \"\"\"\n",
    "        Returns the correct learning rate scheduler\n",
    "        \"\"\"\n",
    "        scheduler = scheduler.lower()\n",
    "        if scheduler == 'constantlr':\n",
    "            return transformers.get_constant_schedule(optimizer)\n",
    "        elif scheduler == 'warmupconstant':\n",
    "            return transformers.get_constant_schedule_with_warmup(optimizer, num_warmup_steps=warmup_steps)\n",
    "        elif scheduler == 'warmuplinear':\n",
    "            return transformers.get_linear_schedule_with_warmup(optimizer, num_warmup_steps=warmup_steps, num_training_steps=t_total)\n",
    "        elif scheduler == 'warmupcosine':\n",
    "            return transformers.get_cosine_schedule_with_warmup(optimizer, num_warmup_steps=warmup_steps, num_training_steps=t_total)\n",
    "        elif scheduler == 'warmupcosinewithhardrestarts':\n",
    "            return transformers.get_cosine_with_hard_restarts_schedule_with_warmup(optimizer, num_warmup_steps=warmup_steps, num_training_steps=t_total)\n",
    "        else:\n",
    "            raise ValueError(\"Unknown scheduler {}\".format(scheduler))\n"
   ]
  },
  {
   "cell_type": "code",
   "execution_count": 28,
   "metadata": {
    "execution": {
     "iopub.execute_input": "2022-12-10T06:18:18.115862Z",
     "iopub.status.busy": "2022-12-10T06:18:18.114586Z",
     "iopub.status.idle": "2022-12-10T06:18:18.132115Z",
     "shell.execute_reply": "2022-12-10T06:18:18.131133Z",
     "shell.execute_reply.started": "2022-12-10T06:18:18.115810Z"
    }
   },
   "outputs": [
    {
     "name": "stdout",
     "output_type": "stream",
     "text": [
      "len_train_step:  429\n"
     ]
    }
   ],
   "source": [
    "len_train_step = len(train_dataloader)\n",
    "print('len_train_step: ',len_train_step)\n",
    "\n",
    "def initialize_model(epochs=3,fp16=False,n_gpu=0,local_rank=-1):\n",
    "    \"\"\"Initialize the Bert Classifier, the optimizer and the learning rate scheduler.\n",
    "    \"\"\"\n",
    "    # Instantiate Bert Classifier\n",
    "    bert_classifier = BertClassifier(freeze_bert=False)\n",
    "\n",
    "    # Tell PyTorch to run the model on GPU\n",
    "    bert_classifier.to(device)\n",
    "\n",
    "    # Create the optimizer\n",
    "    # bert_layers越小，学习率应该要越大\n",
    "    #optimizer = AdamW(bert_classifier.parameters(),\n",
    "    #                  lr=5e-5,    # Default learning rate\n",
    "    #                 eps=1e-8    # Default epsilon value\n",
    "    #                  )\n",
    "    # 定义优化器\n",
    "    optimizer = optim.Adam(\n",
    "                            bert_classifier.parameters(),\n",
    "                            lr=2e-5,\n",
    "                            betas=(0.9, 0.999),\n",
    "                            eps=1e-08,\n",
    "                            weight_decay=0,\n",
    "                            amsgrad=False)# Adam梯度下降\n",
    "    # Total number of training steps\n",
    "    total_steps = len_train_step * epochs\n",
    "    warm_up_ratio = 0.0 # 定义要预热的step\n",
    "    # Set up the learning rate scheduler\n",
    "    # https://blog.csdn.net/orangerfun/article/details/120400247\n",
    "    #scheduler = get_linear_schedule_with_warmup(optimizer,\n",
    "    #                                           num_warmup_steps=warm_up_ratio*total_steps, # Default value\n",
    "    #                                            num_training_steps=total_steps)\n",
    "    scheduler = get_scheduler(optimizer, 'warmuplinear', warm_up_ratio*total_steps, total_steps)\n",
    "    #### Optional configuration\n",
    "#     if fp16:\"Whether to use 16-bit (mixed) precision (through NVIDIA apex) instead of 32-bit\"\n",
    "#         try:\n",
    "#             from apex import amp\n",
    "#             fp16_opt_level = '01'\n",
    "#         except ImportError:\n",
    "#             raise ImportError(\"Please install apex from \"\n",
    "#             \"https://www.github.com/nvidia/apex to use fp16 training.\")\n",
    "#         bert_classifier, optimizer = amp.initialize(\n",
    "#             bert_classifier, optimizer, opt_level=fp16_opt_level)\n",
    "#         \"For fp16: Apex AMP optimization level \"\n",
    "#         \"selected in ['O0', 'O1', 'O2', and 'O3'].\"\n",
    "#         \"See details at https://nvidia.github.io/apex/amp.html\"\n",
    "#     # multi-gpu training (should be after apex fp16 initialization)\n",
    "#     if n_gpu > 1:\n",
    "#         bert_classifier = torch.nn.DataParallel(bert_classifier)\n",
    "        \n",
    "#      # Distributed training (should be after apex fp16 initialization)\n",
    "#     if local_rank != -1:\n",
    "#         bert_classifier = torch.nn.parallel.DistributedDataParallel(\n",
    "#             bert_classifier, \n",
    "#             device_ids=[local_rank],\n",
    "#             output_device=local_rank,\n",
    "#             find_unused_parameters=True\n",
    "#             )\n",
    "        \n",
    "    return bert_classifier, optimizer, scheduler\n"
   ]
  },
  {
   "cell_type": "code",
   "execution_count": 29,
   "metadata": {
    "execution": {
     "iopub.execute_input": "2022-12-10T06:18:18.133835Z",
     "iopub.status.busy": "2022-12-10T06:18:18.133565Z",
     "iopub.status.idle": "2022-12-10T06:18:18.156276Z",
     "shell.execute_reply": "2022-12-10T06:18:18.155102Z",
     "shell.execute_reply.started": "2022-12-10T06:18:18.133812Z"
    }
   },
   "outputs": [],
   "source": [
    "# Specify loss function\n",
    "# loss_fn = nn.CrossEntropyLoss(reduction='mean',label_smoothing=0.05)\n",
    "loss_fn = nn.CrossEntropyLoss(reduction='mean')#https://blog.csdn.net/zyoung17/article/details/108430465\n",
    "def set_seed(seed_value=42):\n",
    "    \"\"\"Set seed for reproducibility.\n",
    "    \"\"\"\n",
    "    random.seed(seed_value)\n",
    "    np.random.seed(seed_value)\n",
    "    torch.manual_seed(seed_value)\n",
    "    torch.cuda.manual_seed_all(seed_value)\n",
    "    \n",
    "\n",
    "def train(model, train_dataloader, val_dataloader=None, epochs=4, evaluation=False):\n",
    "    \"\"\"Train the BertClassifier model.\n",
    "    \"\"\"\n",
    "    # Start training loop\n",
    "    print(\"Start training...\\n\")\n",
    "    one_cricle_length = len(train_dataloader)\n",
    "    for epoch_i in range(epochs):\n",
    "        # =======================================\n",
    "        #               Training\n",
    "        # =======================================\n",
    "        # Print the header of the result table\n",
    "        print(f\"{'Epoch':^7} | {'Batch':^7} | {'Train Loss':^12} | {'Val Loss':^10} | {'Val F1':^9} | {'Elapsed/lr':^9}\")\n",
    "        print(\"-\"*70)\n",
    "\n",
    "        # Measure the elapsed time of each epoch\n",
    "        t0_epoch, t0_batch = time.time(), time.time()\n",
    "\n",
    "        # Reset tracking variables at the beginning of each epoch\n",
    "        total_loss, batch_loss, batch_counts = 0, 0, 0\n",
    "\n",
    "        # Put the model into the training mode\n",
    "        model.train()\n",
    "\n",
    "        # For each batch of training data...\n",
    "        for step, batch in enumerate(train_dataloader):\n",
    "            batch_counts +=1\n",
    "            # Load batch to GPU\n",
    "            b_input_ids, b_attn_mask,b_token_type_ids, b_labels = tuple(t.to(device) for t in batch)\n",
    "\n",
    "            # Zero out any previously calculated gradients\n",
    "            model.zero_grad()\n",
    "\n",
    "            # Perform a forward pass. This will return logits.\n",
    "            logits = model(b_input_ids,b_token_type_ids, b_attn_mask)\n",
    "#             print('logits,b_labels')\n",
    "#             print(logits)\n",
    "#             print(b_labels)\n",
    "            '''tensor([[-0.0491,  0.1918],\n",
    "                       [-0.0062,  0.1743],\n",
    "                       [-0.0856,  0.2257],\n",
    "                       [-0.0044,  0.1629]], grad_fn=<AddmmBackward>)\n",
    "                tensor([0, 1, 0, 0])\n",
    "            '''\n",
    "            #print(logits.shape)  #torch.Size([4, 2]), 4是batch_size, 2是类别\n",
    "            #print(b_labels.shape) #torch.Size([4])\n",
    "            # Compute loss and accumulate the loss values\n",
    "            loss = loss_fn(logits, b_labels)\n",
    "            #print(loss)\n",
    "            #print(logits.shape,b_labels.shape,loss.shape)\n",
    "            batch_loss += loss.item()\n",
    "            total_loss += loss.item()\n",
    "\n",
    "            # Perform a backward pass to calculate gradients\n",
    "            loss.backward()\n",
    "#             b = 0.64\n",
    "#             flood = (loss-b).abs()+b\n",
    "#             flood.backward()\n",
    "            \n",
    "            # Clip the norm of the gradients to 1.0 to prevent \"exploding gradients\",L2 norm fuc\n",
    "            torch.nn.utils.clip_grad_norm_(model.parameters(), 1.0, norm_type=2)\n",
    "\n",
    "            # Update parameters and the learning rate\n",
    "            op_params =optimizer.state_dict()['param_groups'][0]\n",
    "            lr = op_params.get('lr')\n",
    "            \n",
    "            ########################################################################\n",
    "            # Print the loss values and time elapsed for every 20 batches\n",
    "            if (step % 20 == 0 and step != 0) or (step == len(train_dataloader) - 1):\n",
    "                #writer.add_scalar('step/train_loss_step', batch_loss / batch_counts, step + epoch_i*one_cricle_length)\n",
    "                #writer.add_scalar('step/train_lr_step', lr, step + epoch_i*one_cricle_length)\n",
    "\n",
    "                # Calculate time elapsed for 20 batches\n",
    "                time_elapsed = time.time() - t0_batch\n",
    "#                 writer.add_scalar('steploss/train_loss_step', batch_loss / batch_counts, step)\n",
    "                # Print training results\n",
    "                print(f\"{epoch_i + 1:^7} | {step:^7} | {batch_loss / batch_counts:^12.6f} | {'-':^10} | {'-':^9} | {lr}\")\n",
    "                \n",
    "                # Reset batch tracking variables\n",
    "                batch_loss, batch_counts = 0, 0\n",
    "                t0_batch = time.time()\n",
    "            ###############################################################\n",
    "            optimizer.step()\n",
    "            scheduler.step()\n",
    "        # Calculate the average loss over the entire training data\n",
    "        avg_train_loss = total_loss / len(train_dataloader)\n",
    "\n",
    "        print(\"-\"*70)\n",
    "        # =======================================\n",
    "        #               Evaluation\n",
    "        # =======================================\n",
    "        if evaluation == True:\n",
    "            # After the completion of each training epoch, measure the model's performance\n",
    "            # on our validation set.\n",
    "            val_loss, val_f1, val_accuracy, val_p1, val_r1 = evaluate(model, val_dataloader)\n",
    "\n",
    "            # Print performance over the entire training data\n",
    "            time_elapsed = time.time() - t0_epoch\n",
    "            #writer.add_scalar('loss/train_loss', avg_train_loss, epoch_i)\n",
    "            #writer.add_scalar('loss/val_loss', val_loss, epoch_i)\n",
    "            #writer.add_scalar('matrix/val_f1', val_f1, epoch_i)\n",
    "            #writer.add_scalar('matrix/val_p1', val_p1, epoch_i)\n",
    "            #writer.add_scalar('matrix/val_r1', val_r1, epoch_i)\n",
    "            #writer.add_scalar('matrix/val_accuracy', val_accuracy, epoch_i)\n",
    "            \n",
    "            print(f\"{val_r1:^9.2f} | {val_p1:^9.2f} | {avg_train_loss:^12.6f} | {val_loss:^10.6f} | {val_f1:^9.2f} | {val_accuracy:^9.2f}\")\n",
    "            print(\"-\"*70)\n",
    "        print(\"\\n\")\n",
    "    #writer.close()\n",
    "    print(\"Training complete!\")\n",
    "\n",
    "\n",
    "def evaluate(model, val_dataloader):\n",
    "    \"\"\"After the completion of each training epoch, measure the model's performance\n",
    "    on our validation set.\n",
    "    \"\"\"\n",
    "    # Put the model into the evaluation mode. The dropout layers are disabled during\n",
    "    # the test time.\n",
    "    model.eval()\n",
    "\n",
    "    # Tracking variables\n",
    "    val_accuracy = []\n",
    "    val_loss = []\n",
    "    val_f1 = []\n",
    "    val_p0,val_p1,val_r0,val_r1 = [],[],[],[]\n",
    "\n",
    "    # For each batch in our validation set...\n",
    "    for batch in val_dataloader:\n",
    "        # Load batch to GPU\n",
    "        b_input_ids, b_attn_mask, b_token_type_ids, b_labels = tuple(t.to(device) for t in batch)\n",
    "\n",
    "        # Compute logits\n",
    "        with torch.no_grad():\n",
    "            logits = model(b_input_ids,b_token_type_ids, b_attn_mask)\n",
    "\n",
    "        # Compute loss\n",
    "        loss = loss_fn(logits, b_labels)\n",
    "        val_loss.append(loss.item())\n",
    "\n",
    "        # Get the predictions\n",
    "        preds = torch.argmax(logits, dim=1).flatten()\n",
    "        #print(preds)\n",
    "        #print(b_labels)\n",
    "        # Calculate the accuracy rate\n",
    "        # accuracy = (preds == b_labels).cpu().numpy().mean() * 100\n",
    "        #accuracy = (preds == b_labels).cpu().numpy().mean()\n",
    "        accuracy = accuracy_score(b_labels, preds,  normalize=True)\n",
    "        f1 = f1_score(b_labels, preds, average='weighted')\n",
    "        precision = precision_score(b_labels, preds, average='weighted')\n",
    "        recall = recall_score(b_labels, preds, average='weighted')\n",
    "        val_f1.append(f1)\n",
    "        val_accuracy.append(accuracy)\n",
    "        val_p1.append(precision)\n",
    "        val_r1.append(recall)\n",
    "    # Compute the average accuracy and loss over the validation set.\n",
    "    val_loss = np.mean(val_loss)\n",
    "    val_f1 = np.mean(val_f1)\n",
    "    val_accuracy = np.mean(val_accuracy)\n",
    "    val_p0 = np.mean(val_p0)\n",
    "    val_p1 = np.mean(val_p1)\n",
    "    val_r0 = np.mean(val_r0)\n",
    "    val_r1 = np.mean(val_r1)\n",
    "\n",
    "    return val_loss, val_f1, val_accuracy,val_p1,val_r1"
   ]
  },
  {
   "cell_type": "code",
   "execution_count": 30,
   "metadata": {
    "execution": {
     "iopub.execute_input": "2022-12-10T06:18:18.158168Z",
     "iopub.status.busy": "2022-12-10T06:18:18.157793Z",
     "iopub.status.idle": "2022-12-10T11:48:19.815194Z",
     "shell.execute_reply": "2022-12-10T11:48:19.812680Z",
     "shell.execute_reply.started": "2022-12-10T06:18:18.158142Z"
    }
   },
   "outputs": [
    {
     "name": "stderr",
     "output_type": "stream",
     "text": [
      "Some weights of the model checkpoint at bert-base-uncased were not used when initializing BertModel: ['cls.predictions.bias', 'cls.seq_relationship.weight', 'cls.predictions.transform.dense.weight', 'cls.seq_relationship.bias', 'cls.predictions.decoder.weight', 'cls.predictions.transform.LayerNorm.bias', 'cls.predictions.transform.LayerNorm.weight', 'cls.predictions.transform.dense.bias']\n",
      "- This IS expected if you are initializing BertModel from the checkpoint of a model trained on another task or with another architecture (e.g. initializing a BertForSequenceClassification model from a BertForPreTraining model).\n",
      "- This IS NOT expected if you are initializing BertModel from the checkpoint of a model that you expect to be exactly identical (initializing a BertForSequenceClassification model from a BertForSequenceClassification model).\n"
     ]
    },
    {
     "name": "stdout",
     "output_type": "stream",
     "text": [
      "len_train_step:  429\n",
      "Start training...\n",
      "\n",
      " Epoch  |  Batch  |  Train Loss  |  Val Loss  |  Val F1   | Elapsed/lr\n",
      "----------------------------------------------------------------------\n",
      "   1    |   20    |   0.608962   |     -      |     -     | 1.9689199689199693e-05\n",
      "   1    |   40    |   0.520967   |     -      |     -     | 1.937839937839938e-05\n",
      "   1    |   60    |   0.491192   |     -      |     -     | 1.906759906759907e-05\n",
      "   1    |   80    |   0.497113   |     -      |     -     | 1.875679875679876e-05\n",
      "   1    |   100   |   0.469459   |     -      |     -     | 1.8445998445998446e-05\n",
      "   1    |   120   |   0.450308   |     -      |     -     | 1.8135198135198137e-05\n",
      "   1    |   140   |   0.402150   |     -      |     -     | 1.7824397824397825e-05\n",
      "   1    |   160   |   0.353954   |     -      |     -     | 1.7513597513597516e-05\n",
      "   1    |   180   |   0.457764   |     -      |     -     | 1.7202797202797203e-05\n",
      "   1    |   200   |   0.451337   |     -      |     -     | 1.6891996891996894e-05\n",
      "   1    |   220   |   0.436995   |     -      |     -     | 1.6581196581196585e-05\n",
      "   1    |   240   |   0.387471   |     -      |     -     | 1.6270396270396273e-05\n",
      "   1    |   260   |   0.460308   |     -      |     -     | 1.595959595959596e-05\n",
      "   1    |   280   |   0.361530   |     -      |     -     | 1.5648795648795648e-05\n",
      "   1    |   300   |   0.432497   |     -      |     -     | 1.533799533799534e-05\n",
      "   1    |   320   |   0.421126   |     -      |     -     | 1.5027195027195027e-05\n",
      "   1    |   340   |   0.411143   |     -      |     -     | 1.4716394716394717e-05\n",
      "   1    |   360   |   0.394929   |     -      |     -     | 1.4405594405594407e-05\n",
      "   1    |   380   |   0.415362   |     -      |     -     | 1.4094794094794096e-05\n",
      "   1    |   400   |   0.414298   |     -      |     -     | 1.3783993783993785e-05\n",
      "   1    |   420   |   0.464429   |     -      |     -     | 1.3473193473193473e-05\n",
      "   1    |   428   |   0.439476   |     -      |     -     | 1.334887334887335e-05\n",
      "----------------------------------------------------------------------\n"
     ]
    },
    {
     "name": "stderr",
     "output_type": "stream",
     "text": [
      "C:\\ProgramData\\Anaconda3\\lib\\site-packages\\numpy\\core\\fromnumeric.py:3372: RuntimeWarning: Mean of empty slice.\n",
      "  return _methods._mean(a, axis=axis, dtype=dtype,\n",
      "C:\\ProgramData\\Anaconda3\\lib\\site-packages\\numpy\\core\\_methods.py:170: RuntimeWarning: invalid value encountered in double_scalars\n",
      "  ret = ret.dtype.type(ret / rcount)\n"
     ]
    },
    {
     "name": "stdout",
     "output_type": "stream",
     "text": [
      "  0.83    |   0.85    |   0.443335   |  0.422439  |   0.83    |   0.83   \n",
      "----------------------------------------------------------------------\n",
      "\n",
      "\n",
      " Epoch  |  Batch  |  Train Loss  |  Val Loss  |  Val F1   | Elapsed/lr\n",
      "----------------------------------------------------------------------\n",
      "   2    |   20    |   0.340076   |     -      |     -     | 1.3022533022533024e-05\n",
      "   2    |   40    |   0.333349   |     -      |     -     | 1.2711732711732714e-05\n",
      "   2    |   60    |   0.329872   |     -      |     -     | 1.2400932400932401e-05\n",
      "   2    |   80    |   0.291647   |     -      |     -     | 1.2090132090132092e-05\n",
      "   2    |   100   |   0.377714   |     -      |     -     | 1.177933177933178e-05\n",
      "   2    |   120   |   0.358922   |     -      |     -     | 1.1468531468531469e-05\n",
      "   2    |   140   |   0.307628   |     -      |     -     | 1.1157731157731158e-05\n",
      "   2    |   160   |   0.320227   |     -      |     -     | 1.0846930846930847e-05\n",
      "   2    |   180   |   0.330876   |     -      |     -     | 1.0536130536130538e-05\n",
      "   2    |   200   |   0.321529   |     -      |     -     | 1.0225330225330226e-05\n",
      "   2    |   220   |   0.337893   |     -      |     -     | 9.914529914529915e-06\n",
      "   2    |   240   |   0.279424   |     -      |     -     | 9.603729603729605e-06\n",
      "   2    |   260   |   0.407443   |     -      |     -     | 9.292929292929294e-06\n",
      "   2    |   280   |   0.342026   |     -      |     -     | 8.982128982128983e-06\n",
      "   2    |   300   |   0.350708   |     -      |     -     | 8.671328671328672e-06\n",
      "   2    |   320   |   0.249319   |     -      |     -     | 8.360528360528362e-06\n",
      "   2    |   340   |   0.442605   |     -      |     -     | 8.04972804972805e-06\n",
      "   2    |   360   |   0.267050   |     -      |     -     | 7.73892773892774e-06\n",
      "   2    |   380   |   0.268037   |     -      |     -     | 7.4281274281274285e-06\n",
      "   2    |   400   |   0.315374   |     -      |     -     | 7.117327117327118e-06\n",
      "   2    |   420   |   0.324019   |     -      |     -     | 6.806526806526808e-06\n",
      "   2    |   428   |   0.371866   |     -      |     -     | 6.6822066822066824e-06\n",
      "----------------------------------------------------------------------\n"
     ]
    },
    {
     "name": "stderr",
     "output_type": "stream",
     "text": [
      "C:\\ProgramData\\Anaconda3\\lib\\site-packages\\numpy\\core\\fromnumeric.py:3372: RuntimeWarning: Mean of empty slice.\n",
      "  return _methods._mean(a, axis=axis, dtype=dtype,\n",
      "C:\\ProgramData\\Anaconda3\\lib\\site-packages\\numpy\\core\\_methods.py:170: RuntimeWarning: invalid value encountered in double_scalars\n",
      "  ret = ret.dtype.type(ret / rcount)\n"
     ]
    },
    {
     "name": "stdout",
     "output_type": "stream",
     "text": [
      "  0.84    |   0.85    |   0.329207   |  0.416686  |   0.84    |   0.84   \n",
      "----------------------------------------------------------------------\n",
      "\n",
      "\n",
      " Epoch  |  Batch  |  Train Loss  |  Val Loss  |  Val F1   | Elapsed/lr\n",
      "----------------------------------------------------------------------\n",
      "   3    |   20    |   0.238475   |     -      |     -     | 6.355866355866357e-06\n",
      "   3    |   40    |   0.219420   |     -      |     -     | 6.045066045066046e-06\n",
      "   3    |   60    |   0.256740   |     -      |     -     | 5.7342657342657345e-06\n",
      "   3    |   80    |   0.290869   |     -      |     -     | 5.423465423465424e-06\n",
      "   3    |   100   |   0.304523   |     -      |     -     | 5.112665112665113e-06\n",
      "   3    |   120   |   0.287566   |     -      |     -     | 4.801864801864802e-06\n",
      "   3    |   140   |   0.231360   |     -      |     -     | 4.4910644910644915e-06\n",
      "   3    |   160   |   0.290222   |     -      |     -     | 4.180264180264181e-06\n",
      "   3    |   180   |   0.306220   |     -      |     -     | 3.86946386946387e-06\n",
      "   3    |   200   |   0.212403   |     -      |     -     | 3.558663558663559e-06\n",
      "   3    |   220   |   0.228112   |     -      |     -     | 3.247863247863248e-06\n",
      "   3    |   240   |   0.245063   |     -      |     -     | 2.937062937062937e-06\n",
      "   3    |   260   |   0.242643   |     -      |     -     | 2.6262626262626267e-06\n",
      "   3    |   280   |   0.223372   |     -      |     -     | 2.3154623154623155e-06\n",
      "   3    |   300   |   0.172052   |     -      |     -     | 2.004662004662005e-06\n",
      "   3    |   320   |   0.280480   |     -      |     -     | 1.6938616938616939e-06\n",
      "   3    |   340   |   0.290037   |     -      |     -     | 1.3830613830613831e-06\n",
      "   3    |   360   |   0.324668   |     -      |     -     | 1.0722610722610724e-06\n",
      "   3    |   380   |   0.206768   |     -      |     -     | 7.614607614607615e-07\n",
      "   3    |   400   |   0.242614   |     -      |     -     | 4.506604506604507e-07\n",
      "   3    |   420   |   0.272105   |     -      |     -     | 1.3986013986013987e-07\n",
      "   3    |   428   |   0.260755   |     -      |     -     | 1.5540015540015543e-08\n",
      "----------------------------------------------------------------------\n",
      "  0.84    |   0.85    |   0.255568   |  0.450098  |   0.84    |   0.84   \n",
      "----------------------------------------------------------------------\n",
      "\n",
      "\n",
      "Training complete!\n"
     ]
    },
    {
     "name": "stderr",
     "output_type": "stream",
     "text": [
      "C:\\ProgramData\\Anaconda3\\lib\\site-packages\\numpy\\core\\fromnumeric.py:3372: RuntimeWarning: Mean of empty slice.\n",
      "  return _methods._mean(a, axis=axis, dtype=dtype,\n",
      "C:\\ProgramData\\Anaconda3\\lib\\site-packages\\numpy\\core\\_methods.py:170: RuntimeWarning: invalid value encountered in double_scalars\n",
      "  ret = ret.dtype.type(ret / rcount)\n"
     ]
    }
   ],
   "source": [
    "epochs=3\n",
    "set_seed(42)    # Set seed for reproducibility\n",
    "bert_classifier, optimizer, scheduler = initialize_model(epochs=epochs)\n",
    "print('len_train_step: ',len_train_step)\n",
    "train(bert_classifier, train_dataloader, val_dataloader, epochs=epochs, evaluation=True)"
   ]
  },
  {
   "cell_type": "code",
   "execution_count": 31,
   "metadata": {
    "execution": {
     "iopub.execute_input": "2022-12-10T11:48:19.820245Z",
     "iopub.status.busy": "2022-12-10T11:48:19.819692Z",
     "iopub.status.idle": "2022-12-10T11:48:19.829286Z",
     "shell.execute_reply": "2022-12-10T11:48:19.827742Z",
     "shell.execute_reply.started": "2022-12-10T11:48:19.820207Z"
    }
   },
   "outputs": [],
   "source": [
    "import torch.nn.functional as F\n",
    "\n",
    "def bert_predict(model, test_dataloader):\n",
    "    \"\"\"Perform a forward pass on the trained BERT model to predict probabilities\n",
    "    on the test set.\n",
    "    \"\"\"\n",
    "    # Put the model into the evaluation mode. The dropout layers are disabled during\n",
    "    # the test time.\n",
    "    model.eval()\n",
    "\n",
    "    all_logits = []\n",
    "\n",
    "    # For each batch in our test set...\n",
    "    for batch in test_dataloader:\n",
    "        # Load batch to GPU\n",
    "        #b_input_ids, b_attn_mask = tuple(t.to(device) for t in batch)[:2]\n",
    "        b_input_ids, b_attn_mask, b_token_type_ids, b_labels = tuple(t.to(device) for t in batch)\n",
    "\n",
    "        # Compute logits\n",
    "        with torch.no_grad():\n",
    "            logits = model(b_input_ids,b_token_type_ids, b_attn_mask)\n",
    "        all_logits.append(logits)\n",
    "    \n",
    "    # Concatenate logits from each batch\n",
    "    all_logits = torch.cat(all_logits, dim=0)\n",
    "\n",
    "    # Apply softmax to calculate probabilities\n",
    "    probs = F.softmax(all_logits, dim=1).cpu().numpy()\n",
    "\n",
    "    return probs"
   ]
  },
  {
   "cell_type": "code",
   "execution_count": 32,
   "metadata": {
    "execution": {
     "iopub.execute_input": "2022-12-10T11:48:19.831212Z",
     "iopub.status.busy": "2022-12-10T11:48:19.830894Z",
     "iopub.status.idle": "2022-12-10T11:48:19.854038Z",
     "shell.execute_reply": "2022-12-10T11:48:19.850856Z",
     "shell.execute_reply.started": "2022-12-10T11:48:19.831178Z"
    }
   },
   "outputs": [],
   "source": [
    "from sklearn.metrics import accuracy_score, roc_curve, auc\n",
    "import matplotlib.pyplot as plt\n",
    "def evaluate_roc(probs, y_true):\n",
    "    \"\"\"\n",
    "    - Print AUC and accuracy on the test set\n",
    "    - Plot ROC\n",
    "    @params    probs (np.array): an array of predicted probabilities with shape (len(y_true), 2)\n",
    "    @params    y_true (np.array): an array of the true values with shape (len(y_true),)\n",
    "    \"\"\"\n",
    "    preds = probs[:, 1]\n",
    "    fpr, tpr, threshold = roc_curve(y_true, preds)\n",
    "    roc_auc = auc(fpr, tpr)\n",
    "    print(f'AUC: {roc_auc:.4f}')\n",
    "       \n",
    "    # Get accuracy over the test set\n",
    "    y_pred = np.where(preds >= 0.5, 1, 0)\n",
    "    accuracy = accuracy_score(y_true, y_pred)\n",
    "    print(f'Accuracy: {accuracy*100:.2f}%')\n",
    "    \n",
    "    # Plot ROC AUC\n",
    "    plt.title('Receiver Operating Characteristic')\n",
    "    plt.plot(fpr, tpr, 'b', label = 'AUC = %0.2f' % roc_auc) \n",
    "    plt.legend(loc = 'lower right')\n",
    "    plt.plot([0, 1], [0, 1],'r--')\n",
    "    plt.xlim([0, 1])\n",
    "    plt.ylim([0, 1])\n",
    "    plt.ylabel('True Positive Rate')\n",
    "    plt.xlabel('False Positive Rate')\n",
    "    plt.show()"
   ]
  },
  {
   "cell_type": "code",
   "execution_count": 33,
   "metadata": {
    "execution": {
     "iopub.execute_input": "2022-12-10T11:48:19.857180Z",
     "iopub.status.busy": "2022-12-10T11:48:19.856823Z",
     "iopub.status.idle": "2022-12-10T11:52:04.543570Z",
     "shell.execute_reply": "2022-12-10T11:52:04.542804Z",
     "shell.execute_reply.started": "2022-12-10T11:48:19.857155Z"
    }
   },
   "outputs": [
    {
     "name": "stdout",
     "output_type": "stream",
     "text": [
      "AUC: 0.8988\n",
      "Accuracy: 83.86%\n"
     ]
    },
    {
     "data": {
      "image/png": "[encoded data removed]",
      "text/plain": [
       "<Figure size 432x288 with 1 Axes>"
      ]
     },
     "metadata": {
      "needs_background": "light"
     },
     "output_type": "display_data"
    }
   ],
   "source": [
    "# Compute predicted probabilities on the test set\n",
    "probs = bert_predict(bert_classifier, val_dataloader)\n",
    "\n",
    "# Evaluate the Bert classifier\n",
    "evaluate_roc(probs, val_labels)"
   ]
  },
  {
   "cell_type": "code",
   "execution_count": 34,
   "metadata": {
    "execution": {
     "iopub.execute_input": "2022-12-10T11:54:03.139006Z",
     "iopub.status.busy": "2022-12-10T11:54:03.138534Z",
     "iopub.status.idle": "2022-12-10T11:54:03.151597Z",
     "shell.execute_reply": "2022-12-10T11:54:03.149639Z",
     "shell.execute_reply.started": "2022-12-10T11:54:03.138968Z"
    }
   },
   "outputs": [
    {
     "data": {
      "text/html": [
       "<div>\n",
       "<style scoped>\n",
       "    .dataframe tbody tr th:only-of-type {\n",
       "        vertical-align: middle;\n",
       "    }\n",
       "\n",
       "    .dataframe tbody tr th {\n",
       "        vertical-align: top;\n",
       "    }\n",
       "\n",
       "    .dataframe thead th {\n",
       "        text-align: right;\n",
       "    }\n",
       "</style>\n",
       "<table border=\"1\" class=\"dataframe\">\n",
       "  <thead>\n",
       "    <tr style=\"text-align: right;\">\n",
       "      <th></th>\n",
       "      <th>id</th>\n",
       "      <th>target</th>\n",
       "    </tr>\n",
       "  </thead>\n",
       "  <tbody>\n",
       "    <tr>\n",
       "      <th>0</th>\n",
       "      <td>0</td>\n",
       "      <td>0</td>\n",
       "    </tr>\n",
       "    <tr>\n",
       "      <th>1</th>\n",
       "      <td>2</td>\n",
       "      <td>0</td>\n",
       "    </tr>\n",
       "    <tr>\n",
       "      <th>2</th>\n",
       "      <td>3</td>\n",
       "      <td>0</td>\n",
       "    </tr>\n",
       "    <tr>\n",
       "      <th>3</th>\n",
       "      <td>9</td>\n",
       "      <td>0</td>\n",
       "    </tr>\n",
       "    <tr>\n",
       "      <th>4</th>\n",
       "      <td>11</td>\n",
       "      <td>0</td>\n",
       "    </tr>\n",
       "  </tbody>\n",
       "</table>\n",
       "</div>"
      ],
      "text/plain": [
       "   id  target\n",
       "0   0       0\n",
       "1   2       0\n",
       "2   3       0\n",
       "3   9       0\n",
       "4  11       0"
      ]
     },
     "execution_count": 34,
     "metadata": {},
     "output_type": "execute_result"
    }
   ],
   "source": [
    "sample_submission.head()"
   ]
  },
  {
   "cell_type": "code",
   "execution_count": 35,
   "metadata": {
    "execution": {
     "iopub.execute_input": "2022-12-10T11:54:45.345884Z",
     "iopub.status.busy": "2022-12-10T11:54:45.345437Z",
     "iopub.status.idle": "2022-12-10T11:54:45.361772Z",
     "shell.execute_reply": "2022-12-10T11:54:45.359766Z",
     "shell.execute_reply.started": "2022-12-10T11:54:45.345849Z"
    }
   },
   "outputs": [
    {
     "data": {
      "text/html": [
       "<div>\n",
       "<style scoped>\n",
       "    .dataframe tbody tr th:only-of-type {\n",
       "        vertical-align: middle;\n",
       "    }\n",
       "\n",
       "    .dataframe tbody tr th {\n",
       "        vertical-align: top;\n",
       "    }\n",
       "\n",
       "    .dataframe thead th {\n",
       "        text-align: right;\n",
       "    }\n",
       "</style>\n",
       "<table border=\"1\" class=\"dataframe\">\n",
       "  <thead>\n",
       "    <tr style=\"text-align: right;\">\n",
       "      <th></th>\n",
       "      <th>id</th>\n",
       "      <th>keyword</th>\n",
       "      <th>location</th>\n",
       "      <th>text</th>\n",
       "      <th>text_preprocessing</th>\n",
       "    </tr>\n",
       "  </thead>\n",
       "  <tbody>\n",
       "    <tr>\n",
       "      <th>0</th>\n",
       "      <td>0</td>\n",
       "      <td>NaN</td>\n",
       "      <td>NaN</td>\n",
       "      <td>Just happened a terrible car crash</td>\n",
       "      <td>just happened a terrible car crash</td>\n",
       "    </tr>\n",
       "    <tr>\n",
       "      <th>1</th>\n",
       "      <td>2</td>\n",
       "      <td>NaN</td>\n",
       "      <td>NaN</td>\n",
       "      <td>Heard about #earthquake is different cities, s...</td>\n",
       "      <td>heard about earthquake is different cities, st...</td>\n",
       "    </tr>\n",
       "    <tr>\n",
       "      <th>2</th>\n",
       "      <td>3</td>\n",
       "      <td>NaN</td>\n",
       "      <td>NaN</td>\n",
       "      <td>there is a forest fire at spot pond, geese are...</td>\n",
       "      <td>there is a forest fire at spot pond, geese are...</td>\n",
       "    </tr>\n",
       "    <tr>\n",
       "      <th>3</th>\n",
       "      <td>9</td>\n",
       "      <td>NaN</td>\n",
       "      <td>NaN</td>\n",
       "      <td>Apocalypse lighting. #Spokane #wildfires</td>\n",
       "      <td>apocalypse lighting spokane wildfires</td>\n",
       "    </tr>\n",
       "    <tr>\n",
       "      <th>4</th>\n",
       "      <td>11</td>\n",
       "      <td>NaN</td>\n",
       "      <td>NaN</td>\n",
       "      <td>Typhoon Soudelor kills 28 in China and Taiwan</td>\n",
       "      <td>typhoon soudelor kills 28 in china and taiwan</td>\n",
       "    </tr>\n",
       "  </tbody>\n",
       "</table>\n",
       "</div>"
      ],
      "text/plain": [
       "   id keyword location                                               text  \\\n",
       "0   0     NaN      NaN                 Just happened a terrible car crash   \n",
       "1   2     NaN      NaN  Heard about #earthquake is different cities, s...   \n",
       "2   3     NaN      NaN  there is a forest fire at spot pond, geese are...   \n",
       "3   9     NaN      NaN           Apocalypse lighting. #Spokane #wildfires   \n",
       "4  11     NaN      NaN      Typhoon Soudelor kills 28 in China and Taiwan   \n",
       "\n",
       "                                  text_preprocessing  \n",
       "0                 just happened a terrible car crash  \n",
       "1  heard about earthquake is different cities, st...  \n",
       "2  there is a forest fire at spot pond, geese are...  \n",
       "3              apocalypse lighting spokane wildfires  \n",
       "4      typhoon soudelor kills 28 in china and taiwan  "
      ]
     },
     "execution_count": 35,
     "metadata": {},
     "output_type": "execute_result"
    }
   ],
   "source": [
    "test.head()"
   ]
  },
  {
   "cell_type": "code",
   "execution_count": 36,
   "metadata": {
    "execution": {
     "iopub.execute_input": "2022-12-10T12:04:33.678997Z",
     "iopub.status.busy": "2022-12-10T12:04:33.678575Z",
     "iopub.status.idle": "2022-12-10T12:04:35.991495Z",
     "shell.execute_reply": "2022-12-10T12:04:35.989723Z",
     "shell.execute_reply.started": "2022-12-10T12:04:33.678968Z"
    }
   },
   "outputs": [
    {
     "name": "stderr",
     "output_type": "stream",
     "text": [
      "C:\\ProgramData\\Anaconda3\\lib\\site-packages\\transformers\\tokenization_utils_base.py:2184: FutureWarning: The `pad_to_max_length` argument is deprecated and will be removed in a future version, use `padding=True` or `padding='longest'` to pad to the longest sequence in the batch, or use `padding='max_length'` to pad to a max length. In this case, you can give a specific length with `max_length` (e.g. `max_length=45`) or leave max_length to None to pad to the maximal input size of the model (e.g. 512 for Bert).\n",
      "  warnings.warn(\n"
     ]
    }
   ],
   "source": [
    "test_data = []\n",
    "for sent  in test.text_preprocessing.values:\n",
    "    test_data.append({'sent':sent,\"label\":0})\n",
    "test_inputs, test_masks , test_token_type_ids = preprocessing_for_bert(test_data)\n",
    "test_labels = torch.tensor([t[\"label\"] for t in test_data])\n",
    "# Create the DataLoader for our test set\n",
    "test_data = TensorDataset(test_inputs, test_masks, test_token_type_ids,test_labels)\n",
    "test_sampler = SequentialSampler(test_data)\n",
    "test_dataloader = DataLoader(test_data, sampler=test_sampler, batch_size=batch_size)"
   ]
  },
  {
   "cell_type": "code",
   "execution_count": 37,
   "metadata": {
    "execution": {
     "iopub.execute_input": "2022-12-10T12:04:35.993816Z",
     "iopub.status.busy": "2022-12-10T12:04:35.993499Z",
     "iopub.status.idle": "2022-12-10T12:20:58.001260Z",
     "shell.execute_reply": "2022-12-10T12:20:58.000112Z",
     "shell.execute_reply.started": "2022-12-10T12:04:35.993791Z"
    }
   },
   "outputs": [
    {
     "data": {
      "text/plain": [
       "array([1, 1, 1, ..., 1, 1, 1])"
      ]
     },
     "execution_count": 37,
     "metadata": {},
     "output_type": "execute_result"
    }
   ],
   "source": [
    "probs = bert_predict(bert_classifier, test_dataloader)\n",
    "preds = probs[:, 1]\n",
    "y_pred = np.where(preds >= 0.5, 1, 0)\n",
    "y_pred"
   ]
  },
  {
   "cell_type": "code",
   "execution_count": 38,
   "metadata": {
    "execution": {
     "iopub.execute_input": "2022-12-10T12:22:31.320440Z",
     "iopub.status.busy": "2022-12-10T12:22:31.320058Z",
     "iopub.status.idle": "2022-12-10T12:22:31.330270Z",
     "shell.execute_reply": "2022-12-10T12:22:31.328827Z",
     "shell.execute_reply.started": "2022-12-10T12:22:31.320413Z"
    }
   },
   "outputs": [
    {
     "data": {
      "text/html": [
       "<div>\n",
       "<style scoped>\n",
       "    .dataframe tbody tr th:only-of-type {\n",
       "        vertical-align: middle;\n",
       "    }\n",
       "\n",
       "    .dataframe tbody tr th {\n",
       "        vertical-align: top;\n",
       "    }\n",
       "\n",
       "    .dataframe thead th {\n",
       "        text-align: right;\n",
       "    }\n",
       "</style>\n",
       "<table border=\"1\" class=\"dataframe\">\n",
       "  <thead>\n",
       "    <tr style=\"text-align: right;\">\n",
       "      <th></th>\n",
       "      <th>id</th>\n",
       "      <th>target</th>\n",
       "    </tr>\n",
       "  </thead>\n",
       "  <tbody>\n",
       "    <tr>\n",
       "      <th>0</th>\n",
       "      <td>0</td>\n",
       "      <td>1</td>\n",
       "    </tr>\n",
       "    <tr>\n",
       "      <th>1</th>\n",
       "      <td>2</td>\n",
       "      <td>1</td>\n",
       "    </tr>\n",
       "    <tr>\n",
       "      <th>2</th>\n",
       "      <td>3</td>\n",
       "      <td>1</td>\n",
       "    </tr>\n",
       "    <tr>\n",
       "      <th>3</th>\n",
       "      <td>9</td>\n",
       "      <td>1</td>\n",
       "    </tr>\n",
       "    <tr>\n",
       "      <th>4</th>\n",
       "      <td>11</td>\n",
       "      <td>1</td>\n",
       "    </tr>\n",
       "    <tr>\n",
       "      <th>5</th>\n",
       "      <td>12</td>\n",
       "      <td>1</td>\n",
       "    </tr>\n",
       "    <tr>\n",
       "      <th>6</th>\n",
       "      <td>21</td>\n",
       "      <td>0</td>\n",
       "    </tr>\n",
       "    <tr>\n",
       "      <th>7</th>\n",
       "      <td>22</td>\n",
       "      <td>0</td>\n",
       "    </tr>\n",
       "    <tr>\n",
       "      <th>8</th>\n",
       "      <td>27</td>\n",
       "      <td>0</td>\n",
       "    </tr>\n",
       "    <tr>\n",
       "      <th>9</th>\n",
       "      <td>29</td>\n",
       "      <td>0</td>\n",
       "    </tr>\n",
       "  </tbody>\n",
       "</table>\n",
       "</div>"
      ],
      "text/plain": [
       "   id  target\n",
       "0   0       1\n",
       "1   2       1\n",
       "2   3       1\n",
       "3   9       1\n",
       "4  11       1\n",
       "5  12       1\n",
       "6  21       0\n",
       "7  22       0\n",
       "8  27       0\n",
       "9  29       0"
      ]
     },
     "execution_count": 38,
     "metadata": {},
     "output_type": "execute_result"
    }
   ],
   "source": [
    "sample_submission['target']=y_pred\n",
    "sample_submission.head(10)"
   ]
  },
  {
   "cell_type": "code",
   "execution_count": 39,
   "metadata": {
    "execution": {
     "iopub.execute_input": "2022-12-10T12:27:40.635834Z",
     "iopub.status.busy": "2022-12-10T12:27:40.635483Z",
     "iopub.status.idle": "2022-12-10T12:27:40.650716Z",
     "shell.execute_reply": "2022-12-10T12:27:40.648922Z",
     "shell.execute_reply.started": "2022-12-10T12:27:40.635807Z"
    }
   },
   "outputs": [],
   "source": [
    "sample_submission.to_csv('./output/submission.csv')"
   ]
  },
  {
   "cell_type": "code",
   "execution_count": null,
   "metadata": {},
   "outputs": [],
   "source": []
  }
 ],
 "metadata": {
  "kernelspec": {
   "display_name": "Python 3",
   "language": "python",
   "name": "python3"
  },
  "language_info": {
   "codemirror_mode": {
    "name": "ipython",
    "version": 3
   },
   "file_extension": ".py",
   "mimetype": "text/x-python",
   "name": "python",
   "nbconvert_exporter": "python",
   "pygments_lexer": "ipython3",
   "version": "3.8.8"
  }
 },
 "nbformat": 4,
 "nbformat_minor": 4
}
